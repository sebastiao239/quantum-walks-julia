{
 "cells": [
  {
   "cell_type": "code",
   "execution_count": 140,
   "id": "e73254cd",
   "metadata": {},
   "outputs": [],
   "source": [
    "using LinearAlgebra"
   ]
  },
  {
   "cell_type": "code",
   "execution_count": null,
   "id": "3d8b2529",
   "metadata": {},
   "outputs": [],
   "source": []
  },
  {
   "cell_type": "code",
   "execution_count": null,
   "id": "730390d0",
   "metadata": {},
   "outputs": [],
   "source": []
  },
  {
   "cell_type": "code",
   "execution_count": null,
   "id": "b62292f0",
   "metadata": {},
   "outputs": [],
   "source": []
  },
  {
   "cell_type": "code",
   "execution_count": null,
   "id": "a1a30cae",
   "metadata": {},
   "outputs": [],
   "source": []
  },
  {
   "cell_type": "markdown",
   "id": "71f95ce0",
   "metadata": {},
   "source": [
    "Compuerta Hadamar es\n",
    "\n",
    "$$\n",
    "H=\\frac{1}{\\sqrt{2}}\n",
    "\\left(\\begin{array}{cc} \n",
    "1 & 1\\\\ \n",
    "1 & -1\n",
    "\\end{array}\\right)\n",
    "$$\n"
   ]
  },
  {
   "cell_type": "code",
   "execution_count": 157,
   "id": "9a10723f",
   "metadata": {},
   "outputs": [
    {
     "data": {
      "text/plain": [
       "2-element Vector{Vector{Int64}}:\n",
       " [1, 0]\n",
       " [0, 1]"
      ]
     },
     "execution_count": 157,
     "metadata": {},
     "output_type": "execute_result"
    }
   ],
   "source": [
    "H=1/sqrt(2)*[1 1; 1 -1] #Definimos la compuerta HAdamar\n",
    "ϕ=1/sqrt(2)*[1, 1*im] #DEfinimos el cubit inicial\n",
    "\n",
    "kb=[[1,0],[0,1]] #BASE USUAL"
   ]
  },
  {
   "cell_type": "code",
   "execution_count": 158,
   "id": "dd27c607",
   "metadata": {},
   "outputs": [],
   "source": [
    "mutable struct PQ\n",
    "    x::Int64\n",
    "    q::Vector{ComplexF64}\n",
    "end"
   ]
  },
  {
   "cell_type": "code",
   "execution_count": 159,
   "id": "db5390af",
   "metadata": {},
   "outputs": [
    {
     "data": {
      "text/plain": [
       "PQ(0, ComplexF64[0.0 + 0.0im, 0.0 + 0.0im])"
      ]
     },
     "execution_count": 159,
     "metadata": {},
     "output_type": "execute_result"
    }
   ],
   "source": [
    "qb=PQ(0,ϕ)\n",
    "qq=PQ(0,[0,0])"
   ]
  },
  {
   "cell_type": "code",
   "execution_count": 160,
   "id": "b504bf3a",
   "metadata": {},
   "outputs": [
    {
     "data": {
      "text/plain": [
       "0"
      ]
     },
     "execution_count": 160,
     "metadata": {},
     "output_type": "execute_result"
    }
   ],
   "source": [
    "qb.x"
   ]
  },
  {
   "cell_type": "code",
   "execution_count": 161,
   "id": "6bf6beb9",
   "metadata": {},
   "outputs": [
    {
     "data": {
      "text/plain": [
       "Vector{PQ} (alias for Array{PQ, 1})"
      ]
     },
     "execution_count": 161,
     "metadata": {},
     "output_type": "execute_result"
    }
   ],
   "source": [
    "Vector{PQ}"
   ]
  },
  {
   "cell_type": "code",
   "execution_count": 162,
   "id": "c3b5246f",
   "metadata": {},
   "outputs": [
    {
     "data": {
      "text/plain": [
       "15-element Vector{PQ}:\n",
       " #undef\n",
       " #undef\n",
       " #undef\n",
       " #undef\n",
       " #undef\n",
       " #undef\n",
       " #undef\n",
       " #undef\n",
       " #undef\n",
       " #undef\n",
       " #undef\n",
       " #undef\n",
       " #undef\n",
       " #undef\n",
       " #undef"
      ]
     },
     "execution_count": 162,
     "metadata": {},
     "output_type": "execute_result"
    }
   ],
   "source": [
    "n=7\n",
    "P=2n+1 #n-1 es el número central\n",
    "\n",
    "\n",
    "Pos=zeros(Int64, P) # Número de posiciones impar\n",
    "A=Array{PQ}(undef, P) #Numero de vectores pos y quiralidad"
   ]
  },
  {
   "cell_type": "code",
   "execution_count": 163,
   "id": "276912c4",
   "metadata": {},
   "outputs": [],
   "source": [
    "@inbounds for i=1:P\n",
    "    A[i]=qq\n",
    "end;"
   ]
  },
  {
   "cell_type": "code",
   "execution_count": 164,
   "id": "57e083bf",
   "metadata": {
    "scrolled": true
   },
   "outputs": [
    {
     "data": {
      "text/plain": [
       "PQ(0, ComplexF64[0.7071067811865475 + 0.0im, 0.0 + 0.7071067811865475im])"
      ]
     },
     "execution_count": 164,
     "metadata": {},
     "output_type": "execute_result"
    }
   ],
   "source": [
    "A[n+1]=qb #El elemeno n-1 es el principio \"central\" [1|0>+i|1>] (X) |0x>"
   ]
  },
  {
   "cell_type": "code",
   "execution_count": 165,
   "id": "49626d76",
   "metadata": {},
   "outputs": [
    {
     "data": {
      "text/plain": [
       "2-element Vector{ComplexF64}:\n",
       " 0.4999999999999999 + 0.4999999999999999im\n",
       " 0.4999999999999999 - 0.4999999999999999im"
      ]
     },
     "execution_count": 165,
     "metadata": {},
     "output_type": "execute_result"
    }
   ],
   "source": [
    "H*A[n+1].q #Aplicamos Hadamar a la parte quiral |q1>=H|q0>"
   ]
  },
  {
   "cell_type": "code",
   "execution_count": 166,
   "id": "f33f8190",
   "metadata": {
    "scrolled": false
   },
   "outputs": [
    {
     "data": {
      "text/plain": [
       "0.4999999999999999 - 0.4999999999999999im"
      ]
     },
     "execution_count": 166,
     "metadata": {},
     "output_type": "execute_result"
    }
   ],
   "source": [
    "dot(kb[1],H*A[n+1].q) #este es el producto escalar <0|phi>\n",
    "dot(kb[2],H*A[n+1].q)#este es el producto escalar <1|phi>"
   ]
  },
  {
   "cell_type": "code",
   "execution_count": 167,
   "id": "99ea8dea",
   "metadata": {},
   "outputs": [
    {
     "data": {
      "text/plain": [
       "2-element Vector{ComplexF64}:\n",
       " 0.4999999999999999 + 0.4999999999999999im\n",
       "                0.0 + 0.0im"
      ]
     },
     "execution_count": 167,
     "metadata": {},
     "output_type": "execute_result"
    }
   ],
   "source": [
    "a=kb[1]*transpose(kb[1])*H*A[n+1].q #La proyección del vector quiral  |0><0|H|q0>=|0><0|q1>\n"
   ]
  },
  {
   "cell_type": "code",
   "execution_count": 168,
   "id": "38e01800",
   "metadata": {
    "scrolled": true
   },
   "outputs": [
    {
     "data": {
      "text/plain": [
       "2-element Vector{ComplexF64}:\n",
       "                0.0 + 0.0im\n",
       " 0.4999999999999999 - 0.4999999999999999im"
      ]
     },
     "execution_count": 168,
     "metadata": {},
     "output_type": "execute_result"
    }
   ],
   "source": [
    "b=kb[2]*transpose(kb[2])*H*A[n+1].q #es diferente de 0 entonces  |1><1|H|q0>=|1><1|q1>"
   ]
  },
  {
   "cell_type": "code",
   "execution_count": 169,
   "id": "1696e083",
   "metadata": {},
   "outputs": [],
   "source": [
    "#A=Array{PQ}(undef, P) #Numero de vectores pos y quiralidad\n"
   ]
  },
  {
   "cell_type": "code",
   "execution_count": 170,
   "id": "b6bf3441",
   "metadata": {},
   "outputs": [
    {
     "data": {
      "text/plain": [
       "PQ(-1, ComplexF64[0.0 + 0.0im, 0.4999999999999999 - 0.4999999999999999im])"
      ]
     },
     "execution_count": 170,
     "metadata": {},
     "output_type": "execute_result"
    }
   ],
   "source": [
    "#Como las proyecciones son diferente de cero \n",
    "A[(n+1)+1]=PQ(0+1,a)\n",
    "A[(n+1)-1]=PQ(0-1,b)"
   ]
  },
  {
   "cell_type": "code",
   "execution_count": 176,
   "id": "9b9e471a",
   "metadata": {
    "scrolled": true
   },
   "outputs": [
    {
     "ename": "LoadError",
     "evalue": "syntax: incomplete: premature end of input",
     "output_type": "error",
     "traceback": [
      "syntax: incomplete: premature end of input",
      "",
      "Stacktrace:",
      " [1] top-level scope",
      "   @ In[176]:1",
      " [2] eval",
      "   @ .\\boot.jl:360 [inlined]",
      " [3] include_string(mapexpr::typeof(REPL.softscope), mod::Module, code::String, filename::String)",
      "   @ Base .\\loading.jl:1094"
     ]
    }
   ],
   "source": [
    "A[1]=="
   ]
  },
  {
   "cell_type": "code",
   "execution_count": null,
   "id": "4eb7ce36",
   "metadata": {},
   "outputs": [],
   "source": []
  },
  {
   "cell_type": "code",
   "execution_count": null,
   "id": "2f703697",
   "metadata": {},
   "outputs": [],
   "source": []
  },
  {
   "cell_type": "code",
   "execution_count": null,
   "id": "ae95aca5",
   "metadata": {},
   "outputs": [],
   "source": []
  },
  {
   "cell_type": "code",
   "execution_count": null,
   "id": "ce5ac00b",
   "metadata": {},
   "outputs": [],
   "source": []
  },
  {
   "cell_type": "code",
   "execution_count": 128,
   "id": "6d78c9d3",
   "metadata": {},
   "outputs": [
    {
     "data": {
      "text/plain": [
       "Base.OneTo(1)"
      ]
     },
     "execution_count": 128,
     "metadata": {},
     "output_type": "execute_result"
    }
   ],
   "source": [
    "eachindex(P)"
   ]
  },
  {
   "cell_type": "code",
   "execution_count": null,
   "id": "4e6efec5",
   "metadata": {},
   "outputs": [],
   "source": []
  }
 ],
 "metadata": {
  "kernelspec": {
   "display_name": "Julia 1.6.1",
   "language": "julia",
   "name": "julia-1.6"
  },
  "language_info": {
   "file_extension": ".jl",
   "mimetype": "application/julia",
   "name": "julia",
   "version": "1.6.1"
  }
 },
 "nbformat": 4,
 "nbformat_minor": 5
}
