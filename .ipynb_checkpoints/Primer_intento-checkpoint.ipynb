{
 "cells": [
  {
   "cell_type": "code",
   "execution_count": 2,
   "id": "e73254cd",
   "metadata": {},
   "outputs": [],
   "source": [
    "using LinearAlgebra"
   ]
  },
  {
   "cell_type": "code",
   "execution_count": null,
   "id": "3d8b2529",
   "metadata": {},
   "outputs": [],
   "source": []
  },
  {
   "cell_type": "code",
   "execution_count": null,
   "id": "730390d0",
   "metadata": {},
   "outputs": [],
   "source": []
  },
  {
   "cell_type": "code",
   "execution_count": null,
   "id": "b62292f0",
   "metadata": {},
   "outputs": [],
   "source": []
  },
  {
   "cell_type": "code",
   "execution_count": null,
   "id": "a1a30cae",
   "metadata": {},
   "outputs": [],
   "source": []
  },
  {
   "cell_type": "markdown",
   "id": "71f95ce0",
   "metadata": {},
   "source": [
    "Compuerta Hadamar es\n",
    "\n",
    "$$\n",
    "H=\\frac{1}{\\sqrt{2}}\n",
    "\\left(\\begin{array}{cc} \n",
    "1 & 1\\\\ \n",
    "1 & -1\n",
    "\\end{array}\\right)\n",
    "$$\n"
   ]
  },
  {
   "cell_type": "code",
   "execution_count": 3,
   "id": "9a10723f",
   "metadata": {},
   "outputs": [
    {
     "data": {
      "text/plain": [
       "2-element Vector{Vector{Int64}}:\n",
       " [1, 0]\n",
       " [0, 1]"
      ]
     },
     "execution_count": 3,
     "metadata": {},
     "output_type": "execute_result"
    }
   ],
   "source": [
    "H=1/sqrt(2)*[1 1; 1 -1] #Definimos la compuerta HAdamar\n",
    "ϕ=1/sqrt(2)*[1, 1*im] #DEfinimos el cubit inicial\n",
    "\n",
    "kb=[[1,0],[0,1]] #BASE USUAL"
   ]
  },
  {
   "cell_type": "code",
   "execution_count": 4,
   "id": "dd27c607",
   "metadata": {},
   "outputs": [],
   "source": [
    "mutable struct PQ\n",
    "    x::Int64\n",
    "    q::Vector{ComplexF64}\n",
    "end"
   ]
  },
  {
   "cell_type": "code",
   "execution_count": 5,
   "id": "db5390af",
   "metadata": {},
   "outputs": [
    {
     "data": {
      "text/plain": [
       "PQ(0, ComplexF64[0.7071067811865475 + 0.0im, 0.0 + 0.7071067811865475im])"
      ]
     },
     "execution_count": 5,
     "metadata": {},
     "output_type": "execute_result"
    }
   ],
   "source": [
    "qb=PQ(0,ϕ)"
   ]
  },
  {
   "cell_type": "code",
   "execution_count": 6,
   "id": "b504bf3a",
   "metadata": {},
   "outputs": [
    {
     "data": {
      "text/plain": [
       "0"
      ]
     },
     "execution_count": 6,
     "metadata": {},
     "output_type": "execute_result"
    }
   ],
   "source": [
    "qb.x"
   ]
  },
  {
   "cell_type": "code",
   "execution_count": 7,
   "id": "6bf6beb9",
   "metadata": {},
   "outputs": [
    {
     "data": {
      "text/plain": [
       "Vector{PQ} (alias for Array{PQ, 1})"
      ]
     },
     "execution_count": 7,
     "metadata": {},
     "output_type": "execute_result"
    }
   ],
   "source": [
    "Vector{PQ}"
   ]
  },
  {
   "cell_type": "code",
   "execution_count": 17,
   "id": "c3b5246f",
   "metadata": {},
   "outputs": [
    {
     "data": {
      "text/plain": [
       "15-element Vector{Int64}:\n",
       "          9\n",
       "         14\n",
       " 2088775696\n",
       " 2088775792\n",
       "         15\n",
       "         18\n",
       " 2088775984\n",
       " 2088776464\n",
       "         19\n",
       "         20\n",
       " 2088776560\n",
       " 2088776656\n",
       "         21\n",
       "         28\n",
       " 2088777328"
      ]
     },
     "execution_count": 17,
     "metadata": {},
     "output_type": "execute_result"
    }
   ],
   "source": [
    "n=7\n",
    "P=2n+1 #n-1 es el número central\n",
    "\n",
    "A=Array{PQ}(undef, P)\n",
    "Pos=Array{Int64}(undef,P)"
   ]
  },
  {
   "cell_type": "code",
   "execution_count": 9,
   "id": "57e083bf",
   "metadata": {
    "scrolled": true
   },
   "outputs": [
    {
     "data": {
      "text/plain": [
       "PQ(0, ComplexF64[0.7071067811865475 + 0.0im, 0.0 + 0.7071067811865475im])"
      ]
     },
     "execution_count": 9,
     "metadata": {},
     "output_type": "execute_result"
    }
   ],
   "source": [
    "A[n-1]=qb"
   ]
  },
  {
   "cell_type": "code",
   "execution_count": 10,
   "id": "49626d76",
   "metadata": {},
   "outputs": [
    {
     "data": {
      "text/plain": [
       "2-element Vector{ComplexF64}:\n",
       " 0.4999999999999999 + 0.4999999999999999im\n",
       " 0.4999999999999999 - 0.4999999999999999im"
      ]
     },
     "execution_count": 10,
     "metadata": {},
     "output_type": "execute_result"
    }
   ],
   "source": [
    "H*A[n-1].q"
   ]
  },
  {
   "cell_type": "code",
   "execution_count": 11,
   "id": "f33f8190",
   "metadata": {
    "scrolled": false
   },
   "outputs": [
    {
     "data": {
      "text/plain": [
       "0.4999999999999999 + 0.4999999999999999im"
      ]
     },
     "execution_count": 11,
     "metadata": {},
     "output_type": "execute_result"
    }
   ],
   "source": [
    "dot(kb[1],H*A[n-1].q) #este es el producto escalar <0|phi>"
   ]
  },
  {
   "cell_type": "code",
   "execution_count": 12,
   "id": "99ea8dea",
   "metadata": {},
   "outputs": [
    {
     "data": {
      "text/plain": [
       "2-element Vector{ComplexF64}:\n",
       " 0.4999999999999999 + 0.4999999999999999im\n",
       "                0.0 + 0.0im"
      ]
     },
     "execution_count": 12,
     "metadata": {},
     "output_type": "execute_result"
    }
   ],
   "source": [
    "kb[1]*transpose(kb[1])*H*A[n-1].q #es diferente de 0 entonces |0><0|\n"
   ]
  },
  {
   "cell_type": "code",
   "execution_count": 13,
   "id": "b6bf3441",
   "metadata": {},
   "outputs": [
    {
     "data": {
      "text/plain": [
       "2-element Vector{ComplexF64}:\n",
       "                0.0 + 0.0im\n",
       " 0.4999999999999999 - 0.4999999999999999im"
      ]
     },
     "execution_count": 13,
     "metadata": {},
     "output_type": "execute_result"
    }
   ],
   "source": [
    "a=kb[2]*transpose(kb[2])*H*A[n-1].q"
   ]
  },
  {
   "cell_type": "code",
   "execution_count": 18,
   "id": "9b9e471a",
   "metadata": {},
   "outputs": [
    {
     "data": {
      "text/plain": [
       "2-element Vector{ComplexF64}:\n",
       " 0.0 + 0.0im\n",
       " 0.0 + 0.0im"
      ]
     },
     "execution_count": 18,
     "metadata": {},
     "output_type": "execute_result"
    }
   ],
   "source": [
    "kb[1]*transpose(kb[1])*a"
   ]
  },
  {
   "cell_type": "code",
   "execution_count": 16,
   "id": "21fa215d",
   "metadata": {},
   "outputs": [
    {
     "data": {
      "text/plain": [
       "Int64"
      ]
     },
     "execution_count": 16,
     "metadata": {},
     "output_type": "execute_result"
    }
   ],
   "source": [
    "typeof(2)"
   ]
  },
  {
   "cell_type": "code",
   "execution_count": null,
   "id": "4eb7ce36",
   "metadata": {},
   "outputs": [],
   "source": []
  }
 ],
 "metadata": {
  "kernelspec": {
   "display_name": "Julia 1.6.1",
   "language": "julia",
   "name": "julia-1.6"
  },
  "language_info": {
   "file_extension": ".jl",
   "mimetype": "application/julia",
   "name": "julia",
   "version": "1.6.1"
  }
 },
 "nbformat": 4,
 "nbformat_minor": 5
}
